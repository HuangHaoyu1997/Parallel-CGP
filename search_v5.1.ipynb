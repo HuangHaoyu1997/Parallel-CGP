{
 "cells": [
  {
   "cell_type": "code",
   "execution_count": 1,
   "metadata": {},
   "outputs": [],
   "source": [
    "from postprocessing import *\n",
    "import numpy as np\n",
    "import time, os, random, shutil, pickle, ray\n",
    "from cgp import *\n",
    "import matplotlib.pyplot as plt\n",
    "from configuration import config\n",
    "import warnings\n",
    "warnings.filterwarnings('ignore')"
   ]
  },
  {
   "cell_type": "code",
   "execution_count": 26,
   "metadata": {},
   "outputs": [],
   "source": [
    "def rollout(dataset, policy):\n",
    "    x, y, z = dataset\n",
    "    count = 0\n",
    "    for xi,yi,zi in zip(x,y,z):\n",
    "        # input = [d[0], d[1]]\n",
    "        # label = d[2]\n",
    "        input = [xi, yi]\n",
    "        output = policy.eval(*input)\n",
    "        if type(output)!=float:\n",
    "            continue\n",
    "        # print(zi, output, zi == output)\n",
    "        # if zi == output:\n",
    "        #     count += 1\n",
    "        count += np.abs(zi-output)\n",
    "    return count / len(x)\n",
    "\n",
    "def rollout2(dataset, policy):\n",
    "    x, y = dataset\n",
    "    z = [xx>=1.1*yy for xx,yy in zip(x,y)]\n",
    "    count = 0\n",
    "    for xi, yi, zi in zip(x,y,z):\n",
    "        input = [xi, yi]\n",
    "        output = policy.eval(*input)\n",
    "        if output == zi:\n",
    "            count += 1\n",
    "        # print(zi, output, zi == output)\n",
    "        # if zi == output:\n",
    "        #     count += 1\n",
    "        \n",
    "        \n",
    "        # count += np.abs(zi-output)\n",
    "    return count / 1000"
   ]
  },
  {
   "cell_type": "code",
   "execution_count": 27,
   "metadata": {},
   "outputs": [],
   "source": [
    "def get_data():\n",
    "    num = 100\n",
    "    dim = 10\n",
    "    x, y, z = [], [], []\n",
    "    for i in range(num):\n",
    "        xi = np.random.rand(dim,)\n",
    "        x.append(xi)\n",
    "        yi = xi * (np.random.uniform([-0.15]*dim, [0.15]*dim) + 1)\n",
    "        y.append(yi)\n",
    "        \n",
    "        zi = np.sum(np.sign(np.maximum((yi-xi)/xi-0.1, 0))*xi)\n",
    "        z.append(zi)\n",
    "        \n",
    "    return [x, y, z]\n",
    "\n",
    "def get_data2():\n",
    "    num = 1000\n",
    "    train, label = [], []\n",
    "    for i in range(num):\n",
    "        x = np.random.uniform(-100,100)\n",
    "        y = x * (1+np.random.uniform(-0.2, 0.2))\n",
    "        train.append(x)\n",
    "        label.append(y)\n",
    "    return [train, label]"
   ]
  },
  {
   "cell_type": "code",
   "execution_count": 28,
   "metadata": {},
   "outputs": [],
   "source": [
    "fs = [\n",
    "        # Function(const_01, 0),\n",
    "        # Function(op.add, 2), \n",
    "        Function(op.sub, 2), \n",
    "        # Function(op.mul, 2), \n",
    "        # Function(protected_div, 2),\n",
    "        # Function(op.neg, 1),\n",
    "        Function(op.abs, 1),\n",
    "        # Function(op.ge, 2),\n",
    "        # Function(op.le, 2),\n",
    "        Function(sign, 1),\n",
    "        Function(tenth, 1),\n",
    "    ]\n",
    "def Abs(x): return np.abs(x)\n",
    "new_functions = [\n",
    "    # Function(Add, 2, name='Add'),\n",
    "    Function(Sub, 2, name='Sub'),\n",
    "    # Function(Mul, 2, name='Mul'),\n",
    "    # Function(Div, 2, name='Div'),\n",
    "    # Function(Neg, 1, name='Neg'),\n",
    "    Function(Abs, 1, name='Abs'),\n",
    "    # Function(Max1, 1, name='Max2'),\n",
    "    # Function(Sum, 1, name='Sum'),\n",
    "    # Function(Min1, 1, name='Min'),\n",
    "    Function(Sign, 1, name='Sgn'),\n",
    "    Function(tenth, 1,)\n",
    "    # Function(const_01, 0, name='0.1')\n",
    "]"
   ]
  },
  {
   "cell_type": "code",
   "execution_count": 29,
   "metadata": {},
   "outputs": [],
   "source": [
    "np.random.seed(123)\n",
    "random.seed(123)\n",
    "pop = create_population(config.MU+config.LAMBDA, \n",
    "                            input_dim=2, \n",
    "                            out_dim=1,\n",
    "                            fs=fs,\n",
    "                            # fs=new_functions,\n",
    "                            n_cols=10,\n",
    "                            level_back=5,\n",
    "                            out_random_active=False)\n",
    "# data = get_data()\n",
    "data = get_data2()"
   ]
  },
  {
   "cell_type": "code",
   "execution_count": 30,
   "metadata": {},
   "outputs": [
    {
     "name": "stdout",
     "output_type": "stream",
     "text": [
      "0 time: 0.203 best fitness: 0.723\n",
      "1 time: 0.215 best fitness: 0.723\n",
      "2 time: 0.196 best fitness: 0.723\n",
      "3 time: 0.182 best fitness: 0.738\n",
      "4 time: 0.202 best fitness: 0.784\n",
      "5 time: 0.218 best fitness: 0.809\n",
      "6 time: 0.153 best fitness: 0.809\n",
      "7 time: 0.181 best fitness: 0.809\n",
      "8 time: 0.174 best fitness: 0.809\n",
      "9 time: 0.196 best fitness: 0.809\n",
      "10 time: 0.172 best fitness: 0.809\n",
      "11 time: 0.154 best fitness: 0.809\n",
      "12 time: 0.161 best fitness: 0.809\n",
      "13 time: 0.238 best fitness: 0.809\n",
      "14 time: 0.199 best fitness: 0.809\n",
      "15 time: 0.195 best fitness: 0.809\n",
      "16 time: 0.26 best fitness: 0.809\n",
      "17 time: 0.268 best fitness: 0.809\n",
      "18 time: 0.252 best fitness: 0.809\n",
      "19 time: 0.254 best fitness: 0.981\n",
      "20 time: 0.15 best fitness: 1.0\n",
      "21 time: 0.155 best fitness: 1.0\n",
      "22 time: 0.168 best fitness: 1.0\n",
      "23 time: 0.169 best fitness: 1.0\n",
      "24 time: 0.153 best fitness: 1.0\n",
      "25 time: 0.15 best fitness: 1.0\n",
      "26 time: 0.14 best fitness: 1.0\n",
      "27 time: 0.145 best fitness: 1.0\n",
      "28 time: 0.139 best fitness: 1.0\n",
      "29 time: 0.149 best fitness: 1.0\n",
      "30 time: 0.146 best fitness: 1.0\n",
      "31 time: 0.138 best fitness: 1.0\n",
      "32 time: 0.151 best fitness: 1.0\n",
      "33 time: 0.152 best fitness: 1.0\n",
      "34 time: 0.138 best fitness: 1.0\n",
      "35 time: 0.139 best fitness: 1.0\n",
      "36 time: 0.139 best fitness: 1.0\n",
      "37 time: 0.147 best fitness: 1.0\n",
      "38 time: 0.164 best fitness: 1.0\n",
      "39 time: 0.133 best fitness: 1.0\n",
      "40 time: 0.152 best fitness: 1.0\n",
      "41 time: 0.176 best fitness: 1.0\n",
      "42 time: 0.164 best fitness: 1.0\n",
      "43 time: 0.143 best fitness: 1.0\n",
      "44 time: 0.15 best fitness: 1.0\n",
      "45 time: 0.18 best fitness: 1.0\n",
      "46 time: 0.153 best fitness: 1.0\n",
      "47 time: 0.148 best fitness: 1.0\n",
      "48 time: 0.148 best fitness: 1.0\n",
      "49 time: 0.138 best fitness: 1.0\n",
      "50 time: 0.15 best fitness: 1.0\n"
     ]
    },
    {
     "ename": "KeyboardInterrupt",
     "evalue": "",
     "output_type": "error",
     "traceback": [
      "\u001b[1;31m---------------------------------------------------------------------------\u001b[0m",
      "\u001b[1;31mKeyboardInterrupt\u001b[0m                         Traceback (most recent call last)",
      "\u001b[1;32m<ipython-input-30-e9c48af43c87>\u001b[0m in \u001b[0;36m<module>\u001b[1;34m\u001b[0m\n\u001b[0;32m      1\u001b[0m \u001b[1;32mfor\u001b[0m \u001b[0mg\u001b[0m \u001b[1;32min\u001b[0m \u001b[0mrange\u001b[0m\u001b[1;33m(\u001b[0m\u001b[0mconfig\u001b[0m\u001b[1;33m.\u001b[0m\u001b[0mN_GEN\u001b[0m\u001b[1;33m)\u001b[0m\u001b[1;33m:\u001b[0m\u001b[1;33m\u001b[0m\u001b[1;33m\u001b[0m\u001b[0m\n\u001b[0;32m      2\u001b[0m     \u001b[0mtick\u001b[0m \u001b[1;33m=\u001b[0m \u001b[0mtime\u001b[0m\u001b[1;33m.\u001b[0m\u001b[0mtime\u001b[0m\u001b[1;33m(\u001b[0m\u001b[1;33m)\u001b[0m\u001b[1;33m\u001b[0m\u001b[1;33m\u001b[0m\u001b[0m\n\u001b[1;32m----> 3\u001b[1;33m     \u001b[0mfit_list\u001b[0m \u001b[1;33m=\u001b[0m \u001b[1;33m[\u001b[0m\u001b[0mrollout2\u001b[0m\u001b[1;33m(\u001b[0m\u001b[0mdata\u001b[0m\u001b[1;33m,\u001b[0m \u001b[0mp\u001b[0m\u001b[1;33m)\u001b[0m \u001b[1;32mfor\u001b[0m \u001b[0mp\u001b[0m \u001b[1;32min\u001b[0m \u001b[0mpop\u001b[0m\u001b[1;33m]\u001b[0m\u001b[1;33m\u001b[0m\u001b[1;33m\u001b[0m\u001b[0m\n\u001b[0m\u001b[0;32m      4\u001b[0m     \u001b[1;31m# fitness = ray.get(fit_list)\u001b[0m\u001b[1;33m\u001b[0m\u001b[1;33m\u001b[0m\u001b[1;33m\u001b[0m\u001b[0m\n\u001b[0;32m      5\u001b[0m     \u001b[1;31m# 优化方向是最大化\u001b[0m\u001b[1;33m\u001b[0m\u001b[1;33m\u001b[0m\u001b[1;33m\u001b[0m\u001b[0m\n",
      "\u001b[1;32m<ipython-input-30-e9c48af43c87>\u001b[0m in \u001b[0;36m<listcomp>\u001b[1;34m(.0)\u001b[0m\n\u001b[0;32m      1\u001b[0m \u001b[1;32mfor\u001b[0m \u001b[0mg\u001b[0m \u001b[1;32min\u001b[0m \u001b[0mrange\u001b[0m\u001b[1;33m(\u001b[0m\u001b[0mconfig\u001b[0m\u001b[1;33m.\u001b[0m\u001b[0mN_GEN\u001b[0m\u001b[1;33m)\u001b[0m\u001b[1;33m:\u001b[0m\u001b[1;33m\u001b[0m\u001b[1;33m\u001b[0m\u001b[0m\n\u001b[0;32m      2\u001b[0m     \u001b[0mtick\u001b[0m \u001b[1;33m=\u001b[0m \u001b[0mtime\u001b[0m\u001b[1;33m.\u001b[0m\u001b[0mtime\u001b[0m\u001b[1;33m(\u001b[0m\u001b[1;33m)\u001b[0m\u001b[1;33m\u001b[0m\u001b[1;33m\u001b[0m\u001b[0m\n\u001b[1;32m----> 3\u001b[1;33m     \u001b[0mfit_list\u001b[0m \u001b[1;33m=\u001b[0m \u001b[1;33m[\u001b[0m\u001b[0mrollout2\u001b[0m\u001b[1;33m(\u001b[0m\u001b[0mdata\u001b[0m\u001b[1;33m,\u001b[0m \u001b[0mp\u001b[0m\u001b[1;33m)\u001b[0m \u001b[1;32mfor\u001b[0m \u001b[0mp\u001b[0m \u001b[1;32min\u001b[0m \u001b[0mpop\u001b[0m\u001b[1;33m]\u001b[0m\u001b[1;33m\u001b[0m\u001b[1;33m\u001b[0m\u001b[0m\n\u001b[0m\u001b[0;32m      4\u001b[0m     \u001b[1;31m# fitness = ray.get(fit_list)\u001b[0m\u001b[1;33m\u001b[0m\u001b[1;33m\u001b[0m\u001b[1;33m\u001b[0m\u001b[0m\n\u001b[0;32m      5\u001b[0m     \u001b[1;31m# 优化方向是最大化\u001b[0m\u001b[1;33m\u001b[0m\u001b[1;33m\u001b[0m\u001b[1;33m\u001b[0m\u001b[0m\n",
      "\u001b[1;32m<ipython-input-26-97f3e71d0015>\u001b[0m in \u001b[0;36mrollout2\u001b[1;34m(dataset, policy)\u001b[0m\n\u001b[0;32m     21\u001b[0m     \u001b[1;32mfor\u001b[0m \u001b[0mxi\u001b[0m\u001b[1;33m,\u001b[0m \u001b[0myi\u001b[0m\u001b[1;33m,\u001b[0m \u001b[0mzi\u001b[0m \u001b[1;32min\u001b[0m \u001b[0mzip\u001b[0m\u001b[1;33m(\u001b[0m\u001b[0mx\u001b[0m\u001b[1;33m,\u001b[0m\u001b[0my\u001b[0m\u001b[1;33m,\u001b[0m\u001b[0mz\u001b[0m\u001b[1;33m)\u001b[0m\u001b[1;33m:\u001b[0m\u001b[1;33m\u001b[0m\u001b[1;33m\u001b[0m\u001b[0m\n\u001b[0;32m     22\u001b[0m         \u001b[0minput\u001b[0m \u001b[1;33m=\u001b[0m \u001b[1;33m[\u001b[0m\u001b[0mxi\u001b[0m\u001b[1;33m,\u001b[0m \u001b[0myi\u001b[0m\u001b[1;33m]\u001b[0m\u001b[1;33m\u001b[0m\u001b[1;33m\u001b[0m\u001b[0m\n\u001b[1;32m---> 23\u001b[1;33m         \u001b[0moutput\u001b[0m \u001b[1;33m=\u001b[0m \u001b[0mpolicy\u001b[0m\u001b[1;33m.\u001b[0m\u001b[0meval\u001b[0m\u001b[1;33m(\u001b[0m\u001b[1;33m*\u001b[0m\u001b[0minput\u001b[0m\u001b[1;33m)\u001b[0m\u001b[1;33m\u001b[0m\u001b[1;33m\u001b[0m\u001b[0m\n\u001b[0m\u001b[0;32m     24\u001b[0m         \u001b[1;32mif\u001b[0m \u001b[0moutput\u001b[0m \u001b[1;33m==\u001b[0m \u001b[0mzi\u001b[0m\u001b[1;33m:\u001b[0m\u001b[1;33m\u001b[0m\u001b[1;33m\u001b[0m\u001b[0m\n\u001b[0;32m     25\u001b[0m             \u001b[0mcount\u001b[0m \u001b[1;33m+=\u001b[0m \u001b[1;36m1\u001b[0m\u001b[1;33m\u001b[0m\u001b[1;33m\u001b[0m\u001b[0m\n",
      "\u001b[1;32mf:\\GitHubClone\\Parallel-CGP\\cgp.py\u001b[0m in \u001b[0;36meval\u001b[1;34m(self, *args)\u001b[0m\n\u001b[0;32m    114\u001b[0m             \u001b[0mprint\u001b[0m\u001b[1;33m(\u001b[0m\u001b[1;34m\"# active genes: \"\u001b[0m\u001b[1;33m,\u001b[0m \u001b[0mn_active\u001b[0m\u001b[1;33m)\u001b[0m\u001b[1;33m\u001b[0m\u001b[1;33m\u001b[0m\u001b[0m\n\u001b[0;32m    115\u001b[0m \u001b[1;33m\u001b[0m\u001b[0m\n\u001b[1;32m--> 116\u001b[1;33m     \u001b[1;32mdef\u001b[0m \u001b[0meval\u001b[0m\u001b[1;33m(\u001b[0m\u001b[0mself\u001b[0m\u001b[1;33m,\u001b[0m \u001b[1;33m*\u001b[0m\u001b[0margs\u001b[0m\u001b[1;33m)\u001b[0m\u001b[1;33m:\u001b[0m\u001b[1;33m\u001b[0m\u001b[1;33m\u001b[0m\u001b[0m\n\u001b[0m\u001b[0;32m    117\u001b[0m         \"\"\"\n\u001b[0;32m    118\u001b[0m         \u001b[0mGiven\u001b[0m \u001b[0minputs\u001b[0m\u001b[1;33m,\u001b[0m \u001b[0mevaluate\u001b[0m \u001b[0mthe\u001b[0m \u001b[0moutput\u001b[0m \u001b[0mof\u001b[0m \u001b[0mthis\u001b[0m \u001b[0mCGP\u001b[0m \u001b[0mindividual\u001b[0m\u001b[1;33m.\u001b[0m\u001b[1;33m\u001b[0m\u001b[1;33m\u001b[0m\u001b[0m\n",
      "\u001b[1;31mKeyboardInterrupt\u001b[0m: "
     ]
    }
   ],
   "source": [
    "for g in range(config.N_GEN):\n",
    "    tick = time.time()\n",
    "    fit_list = [rollout2(data, p) for p in pop]\n",
    "    # fitness = ray.get(fit_list)\n",
    "    # 优化方向是最大化\n",
    "    for f, p in zip(fit_list, pop):\n",
    "        p.fitness = f\n",
    "    pop = evolve(pop, config.MUT_PB, config.MU, config.LAMBDA)\n",
    "    print(g, 'time:', round(time.time()-tick, 3),'best fitness:', pop[0].fitness)"
   ]
  },
  {
   "cell_type": "code",
   "execution_count": 31,
   "metadata": {},
   "outputs": [
    {
     "name": "stdout",
     "output_type": "stream",
     "text": [
      "Operator notation of 'tenth'' is not available. The node id is shown instead.\n",
      "Operator notation of 'sign'' is not available. The node id is shown instead.\n"
     ]
    }
   ],
   "source": [
    "g = extract_computational_subgraph(pop[0])\n",
    "visualize(g, to_file='test.png',input_names=['x','y'])"
   ]
  },
  {
   "cell_type": "code",
   "execution_count": 12,
   "metadata": {},
   "outputs": [
    {
     "data": {
      "text/plain": [
       "<cgp.Individual at 0x1a54b40d2e8>"
      ]
     },
     "execution_count": 12,
     "metadata": {},
     "output_type": "execute_result"
    }
   ],
   "source": [
    "pop[0]"
   ]
  }
 ],
 "metadata": {
  "kernelspec": {
   "display_name": "ai",
   "language": "python",
   "name": "python3"
  },
  "language_info": {
   "codemirror_mode": {
    "name": "ipython",
    "version": 3
   },
   "file_extension": ".py",
   "mimetype": "text/x-python",
   "name": "python",
   "nbconvert_exporter": "python",
   "pygments_lexer": "ipython3",
   "version": "3.6.8"
  },
  "orig_nbformat": 4
 },
 "nbformat": 4,
 "nbformat_minor": 2
}
